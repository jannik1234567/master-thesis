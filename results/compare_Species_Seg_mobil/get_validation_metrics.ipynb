{
 "cells": [
  {
   "cell_type": "markdown",
   "metadata": {},
   "source": [
    "### set parameters"
   ]
  },
  {
   "cell_type": "code",
   "execution_count": 1,
   "metadata": {},
   "outputs": [],
   "source": [
    "conf_name = 'standard'\n",
    "output_name = 'yolo_n_base'\n",
    "columns_suffix = '_n_base'\n",
    "output_folder = r\"C:\\Users\\scanman\\Documents\\Jannik_Vikari\\final_results\\python_scripts\\final_python_code_rep\\master-thesis\\results\\compare_Species_Seg_mobil\"\n",
    "\n",
    "yolo_model = r\"C:\\Users\\scanman\\Documents\\Jannik_Vikari\\final_results\\python_scripts\\tree_species_base_models\\yolo_n_base\\runs\\segment\\train\\weights\\best.pt\"\n",
    "img_dataset = r\"C:\\Users\\scanman\\Documents\\Jannik_Vikari\\final_results\\image_data\\tree_species_data_15_01_24\\data.yaml\"\n",
    "\n",
    "# create folder if it does not exist\n",
    "from pathlib import Path\n",
    "Path(output_folder).mkdir(parents=True, exist_ok=True)"
   ]
  },
  {
   "cell_type": "markdown",
   "metadata": {},
   "source": [
    "### load model and do validation"
   ]
  },
  {
   "cell_type": "code",
   "execution_count": 2,
   "metadata": {},
   "outputs": [
    {
     "name": "stdout",
     "output_type": "stream",
     "text": [
      "Ultralytics YOLOv8.1.18 🚀 Python-3.12.1 torch-2.2.1+cu121 CUDA:0 (NVIDIA GeForce RTX 4090, 24564MiB)\n",
      "YOLOv8n-seg summary (fused): 195 layers, 3262549 parameters, 0 gradients, 12.0 GFLOPs\n"
     ]
    },
    {
     "name": "stderr",
     "output_type": "stream",
     "text": [
      "\u001b[34m\u001b[1mval: \u001b[0mScanning C:\\Users\\scanman\\Documents\\Jannik_Vikari\\final_results\\image_data\\tree_species_data_15_01_24\\test\\labels.cache... 870 images, 0 backgrounds, 0 corrupt: 100%|██████████| 870/870 [00:00<?, ?it/s]\n"
     ]
    },
    {
     "name": "stdout",
     "output_type": "stream",
     "text": [
      "None\n"
     ]
    },
    {
     "name": "stderr",
     "output_type": "stream",
     "text": [
      "                 Class     Images  Instances      Box(P          R      mAP50  mAP50-95)     Mask(P          R      mAP50  mAP50-95): 100%|██████████| 55/55 [00:06<00:00,  8.19it/s]\n"
     ]
    },
    {
     "name": "stdout",
     "output_type": "stream",
     "text": [
      "                   all        870        888      0.935      0.858      0.929      0.906      0.935      0.858      0.929      0.919\n",
      "            abies_alba        870         32      0.962      0.969      0.987      0.984      0.962      0.969      0.987      0.987\n",
      "        acer_campestre        870         13          1      0.587      0.949      0.882          1      0.587      0.949      0.898\n",
      "      acer_platanoides        870         23      0.912      0.652      0.846      0.837      0.912      0.652      0.846      0.844\n",
      "   acer_pseudoplatanus        870         43      0.916      0.791      0.907      0.895      0.916      0.791      0.907      0.907\n",
      "             alnus_spp        870         22      0.979      0.818      0.916      0.916      0.979      0.818      0.916      0.894\n",
      "            betula_spp        870         19      0.977          1      0.995      0.977      0.977          1      0.995      0.991\n",
      "      carpinus_betulus        870         52      0.927      0.904       0.96      0.912      0.927      0.904       0.96      0.919\n",
      "       castanea_sativa        870         18      0.982      0.722      0.864      0.853      0.982      0.722      0.864       0.86\n",
      "      corylus_avellana        870          6      0.831          1      0.995      0.995      0.831          1      0.995      0.995\n",
      "       fagus_sylvatica        870        148      0.922      0.986      0.977      0.967      0.922      0.986      0.977      0.972\n",
      "    fraxinus_excelsior        870         29      0.841      0.793      0.817      0.763      0.841      0.793      0.817      0.797\n",
      "         juglans_regia        870          8      0.945       0.75      0.871      0.789      0.945       0.75      0.871      0.871\n",
      "         larix_decidua        870         46      0.962      0.913      0.977      0.961      0.962      0.913      0.977      0.964\n",
      "           picea_abies        870         56      0.992          1      0.995      0.982      0.992          1      0.995      0.988\n",
      "      pinus_sylvestris        870         45          1      0.928      0.995      0.992          1      0.928      0.995      0.993\n",
      "           populus_spp        870          7          1      0.774      0.871      0.825          1      0.774      0.871      0.871\n",
      "          prunus_avium        870         46      0.993          1      0.995      0.979      0.993          1      0.995      0.987\n",
      " pseudotsuga_menziesii        870        110       0.99      0.947      0.982      0.964       0.99      0.947      0.982      0.978\n",
      "         quercus_rubra        870          6       0.74        0.5      0.686      0.686       0.74        0.5      0.686      0.686\n",
      "           quercus_spp        870         74      0.919       0.92      0.947      0.922      0.919       0.92      0.947      0.921\n",
      "  robinia_pseudoacacia        870         21      0.928      0.905       0.96      0.945      0.928      0.905       0.96      0.951\n",
      "             salix_spp        870         11       0.98          1      0.995      0.936       0.98          1      0.995      0.977\n",
      "             tilia_spp        870         53      0.809      0.879      0.891      0.871      0.809      0.879      0.891      0.882\n",
      "Speed: 0.2ms preprocess, 2.6ms inference, 0.0ms loss, 0.9ms postprocess per image\n",
      "Results saved to \u001b[1mC:\\Users\\scanman\\Documents\\Jannik_Vikari\\final_results\\python_scripts\\final_python_code_rep\\master-thesis\\results\\compare_Species_Seg_mobil\\val_yolo_n_base_conf_standard\u001b[0m\n"
     ]
    }
   ],
   "source": [
    "from ultralytics import YOLO\n",
    "\n",
    "model = YOLO(yolo_model)\n",
    "\n",
    "metrics = model.val(data=img_dataset,\n",
    "                    project = output_folder,\n",
    "                    split=\"test\",\n",
    "                    name = f'val_{output_name}_conf_{conf_name}')"
   ]
  },
  {
   "cell_type": "markdown",
   "metadata": {},
   "source": [
    "### extract necessary validation metrics for all classes and each class seperatly"
   ]
  },
  {
   "cell_type": "code",
   "execution_count": 5,
   "metadata": {},
   "outputs": [
    {
     "data": {
      "text/plain": [
       "'C:\\\\Users\\\\scanman\\\\Documents\\\\Jannik_Vikari\\\\final_results\\\\python_scripts\\\\final_python_code_rep\\\\master-thesis\\\\results\\\\compare_Species_Seg_mobil\\\\confusion_matrix_normalized_conf_0.25_iou_0.45.png'"
      ]
     },
     "execution_count": 5,
     "metadata": {},
     "output_type": "execute_result"
    }
   ],
   "source": [
    "# copy the confusion matrix to desired output folder and rename\n",
    "import os\n",
    "import shutil\n",
    "\n",
    "# get conf and iou of confusion matrix\n",
    "confidence_mat = metrics.confusion_matrix.conf\n",
    "iou_mat = metrics.confusion_matrix.iou_thres\n",
    "\n",
    "# get files of confusion matrix\n",
    "confusion_mat = os.path.join(output_folder, f'val_{output_name}_conf_{conf_name}', 'confusion_matrix.png')\n",
    "confusion_mat_normal = os.path.join(output_folder, f'val_{output_name}_conf_{conf_name}', 'confusion_matrix_normalized.png')\n",
    "\n",
    "# Specify destination (including the new file name)\n",
    "dest_conf_mat = os.path.join(output_folder, f\"confusion_matrix_conf_{confidence_mat}_iou_{iou_mat}.png\")\n",
    "dest_conf_mat_normal = os.path.join(output_folder, f\"confusion_matrix_normalized_conf_{confidence_mat}_iou_{iou_mat}.png\")\n",
    "\n",
    "# Copy the file\n",
    "shutil.copy2(confusion_mat, dest_conf_mat)\n",
    "shutil.copy2(confusion_mat_normal, dest_conf_mat_normal)"
   ]
  },
  {
   "cell_type": "markdown",
   "metadata": {},
   "source": [
    "##### metrics for per class"
   ]
  },
  {
   "cell_type": "code",
   "execution_count": 11,
   "metadata": {},
   "outputs": [],
   "source": [
    "# get class indexes\n",
    "class_index = metrics.ap_class_index\n",
    "\n",
    "# box precisions for all classes\n",
    "p_box = metrics.box.p\n",
    "\n",
    "# box recall for all classes\n",
    "r_box = metrics.box.r\n",
    "\n",
    "# box f1 for all classes\n",
    "f1_box = metrics.box.f1\n",
    "\n",
    "# box average precision for all classes, iou thresholds between 0.5 and 0.95: ap50-95\n",
    "ap_box = metrics.box.ap\n",
    "\n",
    "# box average precision for all classes, iou threshold 0.5: ap50\n",
    "ap50_box = metrics.box.ap50\n",
    "\n",
    "# mask precisions for all classes\n",
    "p_mask = metrics.seg.p\n",
    "\n",
    "# mask recall for all classes\n",
    "r_mask = metrics.seg.r\n",
    "\n",
    "# mask f1 for all classes\n",
    "f1_mask = metrics.seg.f1\n",
    "\n",
    "# mask average precision for all classes, iou thresholds between 0.5 and 0.95: ap50-95\n",
    "ap_mask = metrics.seg.ap\n",
    "\n",
    "# mask average precision for all classes, iou threshold 0.5: ap50\n",
    "ap50_mask = metrics.seg.ap50"
   ]
  },
  {
   "cell_type": "markdown",
   "metadata": {},
   "source": [
    "##### mean metrics for all classes"
   ]
  },
  {
   "cell_type": "code",
   "execution_count": 12,
   "metadata": {},
   "outputs": [],
   "source": [
    "# box mean precision\n",
    "mp_box = metrics.box.mp\n",
    "\n",
    "# box mean recall \n",
    "mr_box = metrics.box.mr\n",
    "\n",
    "# box mean average precision for all classes, iou thresholds between 0.5 and 0.95: ap50-95\n",
    "map_box = metrics.box.map\n",
    "\n",
    "# box mean average precision for all classes, iou threshold 0.5: ap50\n",
    "map50_box = metrics.box.map50\n",
    "\n",
    "\n",
    "# mask mean precision\n",
    "mp_mask = metrics.seg.mp\n",
    "\n",
    "# mask mean recall \n",
    "mr_mask = metrics.seg.mr\n",
    "\n",
    "# mask mean average precision for all classes, iou thresholds between 0.5 and 0.95: ap50-95\n",
    "map_mask = metrics.seg.map\n",
    "\n",
    "# mask mean average precision for all classes, iou threshold 0.5: ap50\n",
    "map50_mask = metrics.seg.map50"
   ]
  },
  {
   "cell_type": "markdown",
   "metadata": {},
   "source": [
    "#### combine to one dataframe"
   ]
  },
  {
   "cell_type": "code",
   "execution_count": 13,
   "metadata": {},
   "outputs": [],
   "source": [
    "import os\n",
    "import pandas as pd\n",
    "import numpy as np\n",
    "\n",
    "dataset = pd.DataFrame({'class_index': class_index,\n",
    "                        f'precision_box{columns_suffix}': p_box,\n",
    "                        f'recall_box{columns_suffix}': r_box,\n",
    "                        f'map_50_box{columns_suffix}': ap50_box,\n",
    "                        f'map_50_95_box{columns_suffix}': ap_box,\n",
    "                        f'f1_box{columns_suffix}': f1_box,\n",
    "                        f'precision_mask{columns_suffix}': p_mask,\n",
    "                        f'recall_mask{columns_suffix}': r_mask,\n",
    "                        f'map_50_mask{columns_suffix}': ap50_mask,\n",
    "                        f'map_50_95_mask{columns_suffix}': ap_mask,\n",
    "                        f'f1_mask{columns_suffix}': f1_mask})\n",
    "\n",
    "\n",
    "dataset_mean = pd.DataFrame({'class_index': 'all',\n",
    "                             f'precision_box{columns_suffix}': mp_box,\n",
    "                             f'recall_box{columns_suffix}': mr_box,\n",
    "                             f'map_50_box{columns_suffix}': map50_box,\n",
    "                             f'map_50_95_box{columns_suffix}': map_box,\n",
    "                             f'f1_box{columns_suffix}': np.mean(f1_box),\n",
    "                             f'precision_mask{columns_suffix}': mp_mask,\n",
    "                             f'recall_mask{columns_suffix}': mr_mask,\n",
    "                             f'map_50_mask{columns_suffix}': map50_mask,\n",
    "                             f'map_50_95_mask{columns_suffix}': map_mask,\n",
    "                             f'f1_mask{columns_suffix}': np.mean(f1_mask)}, index=[0])\n",
    "\n",
    "final_dataset = pd.concat([dataset_mean, dataset], ignore_index=True)\n",
    "\n",
    "# species data frame\n",
    "species_classes = pd.DataFrame(list(model.names.items()), columns=['class_index', 'species'])\n",
    "\n",
    "species_all = pd.DataFrame({'class_index': 'all', 'species': 'all'}, index=[0])\n",
    "\n",
    "species_df = pd.concat([ species_all, species_classes], ignore_index=True)\n",
    "\n",
    "# combine final df and species df\n",
    "out_df = species_df.merge(final_dataset, on=\"class_index\")\n",
    "\n",
    "filename = f'metrics_{output_name}_conf_{conf_name}.txt'\n",
    "\n",
    "output_file_path = os.path.join(output_folder, filename)\n",
    "\n",
    "out_df.to_csv(output_file_path, sep='\\t', index=False)"
   ]
  }
 ],
 "metadata": {
  "kernelspec": {
   "display_name": "yolo_venv",
   "language": "python",
   "name": "python3"
  },
  "language_info": {
   "codemirror_mode": {
    "name": "ipython",
    "version": 3
   },
   "file_extension": ".py",
   "mimetype": "text/x-python",
   "name": "python",
   "nbconvert_exporter": "python",
   "pygments_lexer": "ipython3",
   "version": "3.12.1"
  }
 },
 "nbformat": 4,
 "nbformat_minor": 2
}
