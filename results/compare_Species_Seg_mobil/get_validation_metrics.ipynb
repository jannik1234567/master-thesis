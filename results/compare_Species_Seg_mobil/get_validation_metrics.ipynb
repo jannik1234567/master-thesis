{
 "cells": [
  {
   "cell_type": "markdown",
   "metadata": {},
   "source": [
    "### set parameters"
   ]
  },
  {
   "cell_type": "code",
   "execution_count": 1,
   "metadata": {},
   "outputs": [],
   "source": [
    "confidence_thresh = 0.5\n",
    "conf_name = '0_5'\n",
    "output_name = 'yolo_m_weighted_aug'\n",
    "columns_suffix = '_m_weighted_aug'\n",
    "output_folder = r\"C:\\Users\\janni\\Dokumente\\Masterarbeit\\model_results\\yolo_m_weighted_sampler_with_augmentations\\val_data_metrics_conf_0_5\"\n",
    "\n",
    "yolo_model = r\"C:\\Users\\janni\\Dokumente\\Masterarbeit\\models\\tree_species_model\\yolo_m_weighted_sampler_with_augmentations\\runs\\segment\\train\\weights\\best_yolo_m_weighted_sampler_augment.pt\"\n",
    "img_dataset = r\"C:\\Users\\janni\\Dokumente\\Masterarbeit\\images\\combined_annotated_images\\tree_species_image_data\\data.yaml\"\n",
    "\n",
    "# create folder if it does not exist\n",
    "from pathlib import Path\n",
    "Path(output_folder).mkdir(parents=True, exist_ok=True)"
   ]
  },
  {
   "cell_type": "markdown",
   "metadata": {},
   "source": [
    "### load model and do validation"
   ]
  },
  {
   "cell_type": "code",
   "execution_count": 2,
   "metadata": {},
   "outputs": [
    {
     "name": "stderr",
     "output_type": "stream",
     "text": [
      "Ultralytics YOLOv8.0.199  Python-3.11.5 torch-2.1.0+cpu CPU (AMD Ryzen 7 5700U with Radeon Graphics)\n",
      "YOLOv8m-seg summary (fused): 245 layers, 27235701 parameters, 0 gradients, 110.0 GFLOPs\n",
      "\u001b[34m\u001b[1mval: \u001b[0mScanning C:\\Users\\janni\\Dokumente\\Masterarbeit\\images\\combined_annotated_images\\tree_species_image_data\\valid\\labels.cache... 1569 images, 0 backgrounds, 0 corrupt: 100%|██████████| 1569/1569 [00:00<?, ?it/s]\n",
      "                 Class     Images  Instances      Box(P          R      mAP50  mAP50-95)     Mask(P          R      mAP50  mAP50-95): 100%|██████████| 99/99 [09:06<00:00,  5.52s/it]\n",
      "                   all       1569       1607      0.922      0.917      0.945      0.929      0.921      0.916      0.945      0.936\n",
      "            abies_alba       1569         27      0.909      0.741      0.851      0.828      0.909      0.741      0.851      0.849\n",
      "        acer_campestre       1569         19          1      0.947      0.974      0.973          1      0.947      0.974      0.973\n",
      "      acer_platanoides       1569         44      0.947      0.818      0.894      0.892      0.947      0.818      0.894      0.892\n",
      "   acer_pseudoplatanus       1569         88      0.847      0.818      0.878      0.875      0.847      0.818      0.878      0.875\n",
      "             alnus_spp       1569         48      0.891      0.854      0.913      0.885      0.891      0.854      0.913      0.887\n",
      "            betula_spp       1569         37      0.973      0.973      0.982       0.98      0.973      0.973      0.982      0.978\n",
      "      carpinus_betulus       1569         99      0.941       0.96      0.941      0.911      0.941       0.96      0.941      0.926\n",
      "       castanea_sativa       1569         38      0.897      0.921      0.939      0.931      0.897      0.921      0.939      0.934\n",
      "      corylus_avellana       1569         12      0.857          1      0.995      0.995      0.857          1      0.995      0.974\n",
      "       fagus_sylvatica       1569        280      0.929      0.929      0.957      0.945      0.929      0.929      0.957       0.95\n",
      "    fraxinus_excelsior       1569         64      0.812      0.812      0.856      0.789      0.812      0.812      0.856      0.812\n",
      "         juglans_regia       1569         13      0.857      0.923      0.944      0.931      0.857      0.923      0.944      0.944\n",
      "         larix_decidua       1569         93      0.935      0.935      0.964      0.948      0.935      0.935      0.964      0.956\n",
      "           picea_abies       1569         25       0.92       0.92      0.951      0.919       0.92       0.92      0.951      0.936\n",
      "      pinus_sylvestris       1569         91      0.917      0.967      0.979      0.975      0.917      0.967      0.979      0.978\n",
      "           populus_spp       1569         15      0.933      0.933       0.96      0.954      0.933      0.933       0.96      0.954\n",
      "          prunus_avium       1569         94          1      0.979      0.989      0.975          1      0.979      0.989      0.984\n",
      " pseudotsuga_menziesii       1569        202       0.96      0.955      0.972      0.958       0.96      0.955      0.972      0.968\n",
      "         quercus_rubra       1569         13          1      0.923      0.961      0.947          1      0.923      0.961      0.946\n",
      "           quercus_spp       1569        140      0.891      0.936       0.95      0.932      0.884      0.929      0.946      0.936\n",
      "  robinia_pseudoacacia       1569         38      0.881      0.974      0.977      0.965      0.881      0.974      0.977      0.968\n",
      "             salix_spp       1569         16          1          1      0.995      0.953          1          1      0.995      0.988\n",
      "             tilia_spp       1569        111      0.897      0.865      0.918       0.91      0.897      0.865      0.918       0.91\n",
      "Speed: 1.2ms preprocess, 330.7ms inference, 0.0ms loss, 0.4ms postprocess per image\n",
      "Results saved to \u001b[1mC:\\Users\\janni\\Dokumente\\Masterarbeit\\model_results\\yolo_m_weighted_sampler_with_augmentations\\val_data_metrics_conf_0_5\\val_yolo_m_weighted_aug_conf_0_5\u001b[0m\n"
     ]
    }
   ],
   "source": [
    "from ultralytics import YOLO\n",
    "\n",
    "model = YOLO(yolo_model)\n",
    "\n",
    "metrics = model.val(data=img_dataset,\n",
    "                    conf=confidence_thresh, \n",
    "                    project = output_folder,\n",
    "                    name = f'val_{output_name}_conf_{conf_name}')"
   ]
  },
  {
   "cell_type": "markdown",
   "metadata": {},
   "source": [
    "### extract necessary validation metrics for all classes and each class seperatly"
   ]
  },
  {
   "cell_type": "code",
   "execution_count": 3,
   "metadata": {},
   "outputs": [
    {
     "data": {
      "text/plain": [
       "'C:\\\\Users\\\\janni\\\\Dokumente\\\\Masterarbeit\\\\model_results\\\\yolo_m_weighted_sampler_with_augmentations\\\\val_data_metrics_conf_0_5\\\\confusion_matrix_normalized_conf_0.5_iou_0.45.png'"
      ]
     },
     "execution_count": 3,
     "metadata": {},
     "output_type": "execute_result"
    }
   ],
   "source": [
    "# copy the confusion matrix to desired output folder and rename\n",
    "import os\n",
    "import shutil\n",
    "\n",
    "# get conf and iou of confusion matrix\n",
    "confidence_mat = metrics.confusion_matrix.conf\n",
    "iou_mat = metrics.confusion_matrix.iou_thres\n",
    "\n",
    "# get files of confusion matrix\n",
    "confusion_mat = os.path.join(output_folder, f'val_{output_name}_conf_{conf_name}', 'confusion_matrix.png')\n",
    "confusion_mat_normal = os.path.join(output_folder, f'val_{output_name}_conf_{conf_name}', 'confusion_matrix_normalized.png')\n",
    "\n",
    "# Specify destination (including the new file name)\n",
    "dest_conf_mat = os.path.join(output_folder, f\"confusion_matrix_conf_{confidence_mat}_iou_{iou_mat}.png\")\n",
    "dest_conf_mat_normal = os.path.join(output_folder, f\"confusion_matrix_normalized_conf_{confidence_mat}_iou_{iou_mat}.png\")\n",
    "\n",
    "# Copy the file\n",
    "shutil.copy2(confusion_mat, dest_conf_mat)\n",
    "shutil.copy2(confusion_mat_normal, dest_conf_mat_normal)"
   ]
  },
  {
   "cell_type": "markdown",
   "metadata": {},
   "source": [
    "##### metrics for per class"
   ]
  },
  {
   "cell_type": "code",
   "execution_count": 29,
   "metadata": {},
   "outputs": [],
   "source": [
    "# get class indexes\n",
    "class_index = metrics.ap_class_index\n",
    "\n",
    "# box precisions for all classes\n",
    "p_box = metrics.box.p\n",
    "\n",
    "# box recall for all classes\n",
    "r_box = metrics.box.r\n",
    "\n",
    "# box f1 for all classes\n",
    "f1_box = metrics.box.f1\n",
    "\n",
    "# box average precision for all classes, iou thresholds between 0.5 and 0.95: ap50-95\n",
    "ap_box = metrics.box.ap\n",
    "\n",
    "# box average precision for all classes, iou threshold 0.5: ap50\n",
    "ap50_box = metrics.box.ap50\n",
    "\n",
    "# mask precisions for all classes\n",
    "p_mask = metrics.seg.p\n",
    "\n",
    "# mask recall for all classes\n",
    "r_mask = metrics.seg.r\n",
    "\n",
    "# mask f1 for all classes\n",
    "f1_mask = metrics.seg.f1\n",
    "\n",
    "# mask average precision for all classes, iou thresholds between 0.5 and 0.95: ap50-95\n",
    "ap_mask = metrics.seg.ap\n",
    "\n",
    "# mask average precision for all classes, iou threshold 0.5: ap50\n",
    "ap50_mask = metrics.seg.ap50"
   ]
  },
  {
   "cell_type": "markdown",
   "metadata": {},
   "source": [
    "##### mean metrics for all classes"
   ]
  },
  {
   "cell_type": "code",
   "execution_count": 30,
   "metadata": {},
   "outputs": [],
   "source": [
    "# box mean precision\n",
    "mp_box = metrics.box.mp\n",
    "\n",
    "# box mean recall \n",
    "mr_box = metrics.box.mr\n",
    "\n",
    "# box mean average precision for all classes, iou thresholds between 0.5 and 0.95: ap50-95\n",
    "map_box = metrics.box.map\n",
    "\n",
    "# box mean average precision for all classes, iou threshold 0.5: ap50\n",
    "map50_box = metrics.box.map50\n",
    "\n",
    "\n",
    "# mask mean precision\n",
    "mp_mask = metrics.seg.mp\n",
    "\n",
    "# mask mean recall \n",
    "mr_mask = metrics.seg.mr\n",
    "\n",
    "# mask mean average precision for all classes, iou thresholds between 0.5 and 0.95: ap50-95\n",
    "map_mask = metrics.seg.map\n",
    "\n",
    "# mask mean average precision for all classes, iou threshold 0.5: ap50\n",
    "map50_mask = metrics.seg.map50"
   ]
  },
  {
   "cell_type": "markdown",
   "metadata": {},
   "source": [
    "#### combine to one dataframe"
   ]
  },
  {
   "cell_type": "code",
   "execution_count": 31,
   "metadata": {},
   "outputs": [],
   "source": [
    "import os\n",
    "import pandas as pd\n",
    "import numpy as np\n",
    "\n",
    "dataset = pd.DataFrame({'class_index': class_index,\n",
    "                        f'precision_box{columns_suffix}': p_box,\n",
    "                        f'recall_box{columns_suffix}': r_box,\n",
    "                        f'map_50_box{columns_suffix}': ap50_box,\n",
    "                        f'map_50_95_box{columns_suffix}': ap_box,\n",
    "                        f'f1_box{columns_suffix}': f1_box,\n",
    "                        f'precision_mask{columns_suffix}': p_mask,\n",
    "                        f'recall_mask{columns_suffix}': r_mask,\n",
    "                        f'map_50_mask{columns_suffix}': ap50_mask,\n",
    "                        f'map_50_95_mask{columns_suffix}': ap_mask,\n",
    "                        f'f1_mask{columns_suffix}': f1_mask})\n",
    "\n",
    "\n",
    "dataset_mean = pd.DataFrame({'class_index': 'all',\n",
    "                             f'precision_box{columns_suffix}': mp_box,\n",
    "                             f'recall_box{columns_suffix}': mr_box,\n",
    "                             f'map_50_box{columns_suffix}': map50_box,\n",
    "                             f'map_50_95_box{columns_suffix}': map_box,\n",
    "                             f'f1_box{columns_suffix}': np.mean(f1_box),\n",
    "                             f'precision_mask{columns_suffix}': mp_mask,\n",
    "                             f'recall_mask{columns_suffix}': mr_mask,\n",
    "                             f'map_50_mask{columns_suffix}': map50_mask,\n",
    "                             f'map_50_95_mask{columns_suffix}': map_mask,\n",
    "                             f'f1_mask{columns_suffix}': np.mean(f1_mask)}, index=[0])\n",
    "\n",
    "final_dataset = pd.concat([dataset_mean, dataset], ignore_index=True)\n",
    "\n",
    "# species data frame\n",
    "species_classes = pd.DataFrame(list(model.names.items()), columns=['class_index', 'species'])\n",
    "\n",
    "species_all = pd.DataFrame({'class_index': 'all', 'species': 'all'}, index=[0])\n",
    "\n",
    "species_df = pd.concat([ species_all, species_classes], ignore_index=True)\n",
    "\n",
    "# combine final df and species df\n",
    "out_df = species_df.merge(final_dataset, on=\"class_index\")\n",
    "\n",
    "filename = f'metrics_{output_name}_conf_{conf_name}.txt'\n",
    "\n",
    "output_file_path = os.path.join(output_folder, filename)\n",
    "\n",
    "out_df.to_csv(output_file_path, sep='\\t', index=False)"
   ]
  }
 ],
 "metadata": {
  "kernelspec": {
   "display_name": "yolo_venv",
   "language": "python",
   "name": "python3"
  },
  "language_info": {
   "codemirror_mode": {
    "name": "ipython",
    "version": 3
   },
   "file_extension": ".py",
   "mimetype": "text/x-python",
   "name": "python",
   "nbconvert_exporter": "python",
   "pygments_lexer": "ipython3",
   "version": "3.11.5"
  }
 },
 "nbformat": 4,
 "nbformat_minor": 2
}
